{
 "cells": [
  {
   "cell_type": "markdown",
   "metadata": {},
   "source": [
    "# Named Entity Extraction Tutorial\n",
    "This tutorial is a slight modification of the tutorial by Sam Galen."
   ]
  },
  {
   "cell_type": "code",
   "execution_count": 149,
   "metadata": {},
   "outputs": [
    {
     "name": "stdout",
     "output_type": "stream",
     "text": [
      "sklearn version: 0.20.1\n",
      "Libraries succesfully loaded!\n"
     ]
    }
   ],
   "source": [
    "from __future__ import print_function\n",
    "from sklearn.metrics import confusion_matrix\n",
    "import io\n",
    "import nltk\n",
    "import scipy\n",
    "import codecs\n",
    "import sklearn\n",
    "import pycrfsuite\n",
    "import pandas as pd\n",
    "from itertools import chain\n",
    "from sklearn.preprocessing import LabelBinarizer\n",
    "from sklearn.metrics import classification_report\n",
    "\n",
    "print('sklearn version:', sklearn.__version__)\n",
    "print('Libraries succesfully loaded!')\n"
   ]
  },
  {
   "cell_type": "code",
   "execution_count": 150,
   "metadata": {},
   "outputs": [],
   "source": [
    "def sent2features(sent, feature_func):\n",
    "    return [feature_func(sent, i) for i in range(len(sent))]\n",
    "\n",
    "def sent2labels(sent):\n",
    "    return [s[-1] for s in sent]\n",
    "\n",
    "def sent2tokens(sent):\n",
    "    return [s[0] for s in sent]\n",
    "\n",
    "def bio_classification_report(y_true, y_pred):\n",
    "    \"\"\"\n",
    "    Classification report for a list of BIO-encoded sequences.\n",
    "    It computes token-level metrics and discards \"O\" labels.\n",
    "    \n",
    "    Note that it requires scikit-learn 0.15+ (or a version from github master)\n",
    "    to calculate averages properly!\n",
    "    \"\"\"\n",
    "    lb = LabelBinarizer()\n",
    "    y_true_combined = lb.fit_transform(y_true)\n",
    "    y_pred_combined = lb.transform(y_pred)\n",
    "        \n",
    "    tagset = set(lb.classes_) - {'O'}\n",
    "    tagset = sorted(tagset, key=lambda tag: tag.split('-', 1)[::-1])\n",
    "    class_indices = {cls: idx for idx, cls in enumerate(lb.classes_)}\n",
    "    \n",
    "    return classification_report(\n",
    "        y_true_combined,\n",
    "        y_pred_combined,\n",
    "        labels = [class_indices[cls] for cls in tagset],\n",
    "        target_names = tagset,\n",
    "    )\n",
    "            \n",
    "def word2simple_features(sent, i):\n",
    "    '''\n",
    "    This makes a simple baseline.  \n",
    "    You can add and/or remove features to get (much?) better results.\n",
    "    Experiment with it as you will need to do this for assignment.\n",
    "    '''\n",
    "    word = sent[i][0]\n",
    "    \n",
    "    features = {\n",
    "        'bias': 1.0, # This feature is constant for all words.\n",
    "        'word.lower()': word.lower(), # This feature is the word, ignoring case.\n",
    "        'word[-2:]': word[-2:], # This feature is the last two characters of the word (i.e. the suffix).\n",
    "    }\n",
    "    if i == 0:\n",
    "        features['BOS'] = True # Mark the beginning of sentence.\n",
    "        \n",
    "    if i == len(sent)-1:\n",
    "        features['EOS'] = True # Mark the end of sentence.\n",
    "\n",
    "    return features\n",
    "\n",
    "# load data and preprocess\n",
    "def extract_data(path):\n",
    "    \"\"\"\n",
    "    Extracting data from train file or test file. \n",
    "    path - the path of the file to extract\n",
    "    \n",
    "    return:\n",
    "        res - a list of sentences, each sentence is a\n",
    "              a list of tuples. For train file, each tuple\n",
    "              contains token and label. For test file, each\n",
    "              tuple only contains token.\n",
    "        ids - a list of ids for the corresponding token. This\n",
    "              is mainly for Kaggle submission.\n",
    "    \"\"\"\n",
    "    file = io.open(path, mode=\"r\", encoding=\"utf-8\")\n",
    "    next(file)\n",
    "    res = []\n",
    "    ids = []\n",
    "    sent = []\n",
    "    for line in file:\n",
    "        if line != '\\n':\n",
    "            # Each line contains the position ID, the token, and (for the training set) the label.\n",
    "            parts = line.strip().split(' ')\n",
    "            sent.append(tuple(parts[1:]))\n",
    "            ids.append(parts[0])\n",
    "        else:\n",
    "            res.append(sent)\n",
    "            sent = []\n",
    "                \n",
    "    return res, ids\n",
    "            "
   ]
  },
  {
   "cell_type": "markdown",
   "metadata": {},
   "source": [
    "# Build a NER classifier"
   ]
  },
  {
   "cell_type": "markdown",
   "metadata": {},
   "source": [
    "## Load data and extract features"
   ]
  },
  {
   "cell_type": "code",
   "execution_count": 151,
   "metadata": {
    "scrolled": true
   },
   "outputs": [
    {
     "name": "stdout",
     "output_type": "stream",
     "text": [
      "Train and Test data loaded succesfully!\n",
      "Feature Extraction done!\n"
     ]
    },
    {
     "data": {
      "text/plain": [
       "[{'bias': 1.0, 'word.lower()': 'también', 'word[-2:]': 'én', 'BOS': True},\n",
       " {'bias': 1.0, 'word.lower()': 'el', 'word[-2:]': 'el'},\n",
       " {'bias': 1.0, 'word.lower()': 'secretario', 'word[-2:]': 'io'},\n",
       " {'bias': 1.0, 'word.lower()': 'general', 'word[-2:]': 'al'},\n",
       " {'bias': 1.0, 'word.lower()': 'de', 'word[-2:]': 'de'},\n",
       " {'bias': 1.0, 'word.lower()': 'la', 'word[-2:]': 'la'},\n",
       " {'bias': 1.0, 'word.lower()': 'asociación', 'word[-2:]': 'ón'},\n",
       " {'bias': 1.0, 'word.lower()': 'española', 'word[-2:]': 'la'},\n",
       " {'bias': 1.0, 'word.lower()': 'de', 'word[-2:]': 'de'},\n",
       " {'bias': 1.0, 'word.lower()': 'operadores', 'word[-2:]': 'es'},\n",
       " {'bias': 1.0, 'word.lower()': 'de', 'word[-2:]': 'de'},\n",
       " {'bias': 1.0, 'word.lower()': 'productos', 'word[-2:]': 'os'},\n",
       " {'bias': 1.0, 'word.lower()': 'petrolíferos', 'word[-2:]': 'os'},\n",
       " {'bias': 1.0, 'word.lower()': ',', 'word[-2:]': ','},\n",
       " {'bias': 1.0, 'word.lower()': 'aurelio', 'word[-2:]': 'io'},\n",
       " {'bias': 1.0, 'word.lower()': 'ayala', 'word[-2:]': 'la'},\n",
       " {'bias': 1.0, 'word.lower()': ',', 'word[-2:]': ','},\n",
       " {'bias': 1.0, 'word.lower()': 'ha', 'word[-2:]': 'ha'},\n",
       " {'bias': 1.0, 'word.lower()': 'negado', 'word[-2:]': 'do'},\n",
       " {'bias': 1.0, 'word.lower()': 'la', 'word[-2:]': 'la'},\n",
       " {'bias': 1.0, 'word.lower()': 'existencia', 'word[-2:]': 'ia'},\n",
       " {'bias': 1.0, 'word.lower()': 'de', 'word[-2:]': 'de'},\n",
       " {'bias': 1.0, 'word.lower()': 'cualquier', 'word[-2:]': 'er'},\n",
       " {'bias': 1.0, 'word.lower()': 'tipo', 'word[-2:]': 'po'},\n",
       " {'bias': 1.0, 'word.lower()': 'de', 'word[-2:]': 'de'},\n",
       " {'bias': 1.0, 'word.lower()': 'acuerdos', 'word[-2:]': 'os'},\n",
       " {'bias': 1.0, 'word.lower()': 'sobre', 'word[-2:]': 're'},\n",
       " {'bias': 1.0, 'word.lower()': 'los', 'word[-2:]': 'os'},\n",
       " {'bias': 1.0, 'word.lower()': 'precios', 'word[-2:]': 'os'},\n",
       " {'bias': 1.0, 'word.lower()': ',', 'word[-2:]': ','},\n",
       " {'bias': 1.0, 'word.lower()': 'afirmando', 'word[-2:]': 'do'},\n",
       " {'bias': 1.0, 'word.lower()': 'que', 'word[-2:]': 'ue'},\n",
       " {'bias': 1.0, 'word.lower()': 'únicamente', 'word[-2:]': 'te'},\n",
       " {'bias': 1.0, 'word.lower()': 'es', 'word[-2:]': 'es'},\n",
       " {'bias': 1.0, 'word.lower()': 'la', 'word[-2:]': 'la'},\n",
       " {'bias': 1.0, 'word.lower()': 'cotización', 'word[-2:]': 'ón'},\n",
       " {'bias': 1.0, 'word.lower()': 'internacional', 'word[-2:]': 'al'},\n",
       " {'bias': 1.0, 'word.lower()': 'la', 'word[-2:]': 'la'},\n",
       " {'bias': 1.0, 'word.lower()': 'que', 'word[-2:]': 'ue'},\n",
       " {'bias': 1.0, 'word.lower()': 'pone', 'word[-2:]': 'ne'},\n",
       " {'bias': 1.0, 'word.lower()': 'de', 'word[-2:]': 'de'},\n",
       " {'bias': 1.0, 'word.lower()': 'acuerdo', 'word[-2:]': 'do'},\n",
       " {'bias': 1.0, 'word.lower()': 'a', 'word[-2:]': 'a'},\n",
       " {'bias': 1.0, 'word.lower()': 'todos', 'word[-2:]': 'os'},\n",
       " {'bias': 1.0, 'word.lower()': 'los', 'word[-2:]': 'os'},\n",
       " {'bias': 1.0, 'word.lower()': 'países', 'word[-2:]': 'es'},\n",
       " {'bias': 1.0, 'word.lower()': '.', 'word[-2:]': '.', 'EOS': True}]"
      ]
     },
     "execution_count": 151,
     "metadata": {},
     "output_type": "execute_result"
    }
   ],
   "source": [
    "# Load train and test data\n",
    "train_data, train_ids = extract_data('train')\n",
    "test_data, test_ids = extract_data('test')\n",
    "\n",
    "# Load true labels for test data\n",
    "test_labels = list(pd.read_csv('test_ground_truth').loc[:, 'label'])\n",
    "\n",
    "print('Train and Test data loaded succesfully!')\n",
    "\n",
    "# Feature extraction using the word2simple_features function\n",
    "train_features = [sent2features(s, feature_func=word2simple_features) for s in train_data]\n",
    "train_labels = [sent2labels(s) for s in train_data]\n",
    "test_features = [sent2features(s, feature_func=word2simple_features) for s in test_data]\n",
    "\n",
    "trainer = pycrfsuite.Trainer(verbose=False)\n",
    "for xseq, yseq in zip(train_features, train_labels):\n",
    "    trainer.append(xseq, yseq)\n",
    "print('Feature Extraction done!')    \n",
    "\n",
    "# Explore the extracted features    \n",
    "sent2features(train_data[0], word2simple_features)"
   ]
  },
  {
   "cell_type": "markdown",
   "metadata": {},
   "source": [
    "## Explore the classifier parameters"
   ]
  },
  {
   "cell_type": "code",
   "execution_count": 159,
   "metadata": {},
   "outputs": [
    {
     "data": {
      "text/plain": [
       "['feature.minfreq',\n",
       " 'feature.possible_states',\n",
       " 'feature.possible_transitions',\n",
       " 'c1',\n",
       " 'c2',\n",
       " 'max_iterations',\n",
       " 'num_memories',\n",
       " 'epsilon',\n",
       " 'period',\n",
       " 'delta',\n",
       " 'linesearch',\n",
       " 'max_linesearch']"
      ]
     },
     "execution_count": 159,
     "metadata": {},
     "output_type": "execute_result"
    }
   ],
   "source": [
    "trainer.params()"
   ]
  },
  {
   "cell_type": "markdown",
   "metadata": {},
   "source": [
    "## Set the classifier parameters"
   ]
  },
  {
   "cell_type": "code",
   "execution_count": 160,
   "metadata": {},
   "outputs": [],
   "source": [
    "trainer.set_params({\n",
    "    'c1': 0.3,   # coefficient for L1 penalty\n",
    "    'c2': 1e-2,  # coefficient for L2 penalty\n",
    "    'max_iterations': 100,  # stop earlier\n",
    "    # include transitions that are possible, but not observed\n",
    "    'feature.possible_transitions': True\n",
    "})"
   ]
  },
  {
   "cell_type": "markdown",
   "metadata": {},
   "source": [
    "## Train a NER model"
   ]
  },
  {
   "cell_type": "code",
   "execution_count": 161,
   "metadata": {},
   "outputs": [
    {
     "name": "stdout",
     "output_type": "stream",
     "text": [
      "Training done :)\n",
      "Wall time: 13.7 s\n"
     ]
    }
   ],
   "source": [
    "%%time\n",
    "trainer.train('ner-esp.model')\n",
    "\n",
    "print('Training done :)')"
   ]
  },
  {
   "cell_type": "markdown",
   "metadata": {},
   "source": [
    "## Make predictions with your NER model\n",
    "Make predictions and evaluate your model on the test set.\n",
    "To use your NER model, create pycrfsuite.Tagger, open the model, and use the \"tag\" method, as follows:"
   ]
  },
  {
   "cell_type": "code",
   "execution_count": 162,
   "metadata": {},
   "outputs": [
    {
     "name": "stdout",
     "output_type": "stream",
     "text": [
      "              precision    recall  f1-score   support\n",
      "\n",
      "       B-LOC       0.74      0.80      0.77      1879\n",
      "       I-LOC       0.54      0.73      0.62       563\n",
      "      B-MISC       0.36      0.62      0.46       511\n",
      "      I-MISC       0.41      0.41      0.41      1235\n",
      "       B-ORG       0.71      0.84      0.77      2720\n",
      "       I-ORG       0.62      0.67      0.64      2057\n",
      "       B-PER       0.78      0.89      0.83      1651\n",
      "       I-PER       0.85      0.89      0.87      1559\n",
      "\n",
      "   micro avg       0.67      0.76      0.71     12175\n",
      "   macro avg       0.63      0.73      0.67     12175\n",
      "weighted avg       0.67      0.76      0.71     12175\n",
      " samples avg       0.08      0.08      0.08     12175\n",
      "\n"
     ]
    }
   ],
   "source": [
    "# Make predictions\n",
    "tagger = pycrfsuite.Tagger()\n",
    "tagger.open('ner-esp.model')\n",
    "test_pred = [tagger.tag(xseq) for xseq in test_features]\n",
    "test_pred = [s for w in test_pred for s in w]\n",
    "\n",
    "## Print evaluation\n",
    "print(bio_classification_report(test_pred, test_labels))\n"
   ]
  },
  {
   "cell_type": "code",
   "execution_count": 163,
   "metadata": {
    "scrolled": false
   },
   "outputs": [
    {
     "name": "stdout",
     "output_type": "stream",
     "text": [
      "100 {'num': 100, 'scores': {}, 'loss': 23557.287174, 'feature_norm': 347.758296, 'error_norm': 396.576613, 'active_features': 14089, 'linesearch_trials': 1, 'linesearch_step': 1.0, 'time': 0.113}\n"
     ]
    }
   ],
   "source": [
    "print (len(trainer.logparser.iterations), trainer.logparser.iterations[-1])"
   ]
  },
  {
   "cell_type": "markdown",
   "metadata": {},
   "source": [
    "## Check what the classifier has learned"
   ]
  },
  {
   "cell_type": "code",
   "execution_count": 164,
   "metadata": {},
   "outputs": [
    {
     "name": "stdout",
     "output_type": "stream",
     "text": [
      "Top likely transitions:\n",
      "I-ORG  -> I-ORG   8.446236\n",
      "B-MISC -> I-MISC  8.444787\n",
      "B-PER  -> I-PER   7.850296\n",
      "O      -> B-ORG   7.657108\n",
      "B-LOC  -> I-LOC   7.654752\n",
      "B-ORG  -> I-ORG   7.461336\n",
      "I-MISC -> I-MISC  7.182685\n",
      "I-LOC  -> I-LOC   6.983064\n",
      "I-PER  -> I-PER   6.862758\n",
      "O      -> B-MISC  5.301844\n",
      "O      -> B-PER   5.160665\n",
      "O      -> B-LOC   4.305234\n",
      "O      -> O       3.864672\n",
      "B-LOC  -> B-LOC   1.842234\n",
      "B-LOC  -> B-ORG   1.704278\n",
      "\n",
      "Top unlikely transitions:\n",
      "B-PER  -> O       -0.660255\n",
      "B-ORG  -> B-ORG   -0.683587\n",
      "B-ORG  -> B-LOC   -0.713435\n",
      "B-PER  -> B-LOC   -0.760192\n",
      "I-ORG  -> O       -0.840991\n",
      "I-LOC  -> O       -0.932838\n",
      "B-ORG  -> O       -1.009612\n",
      "I-ORG  -> B-MISC  -1.091496\n",
      "I-MISC -> B-PER   -1.270028\n",
      "B-ORG  -> B-MISC  -1.428103\n",
      "I-MISC -> O       -2.088220\n",
      "I-LOC  -> B-LOC   -2.273365\n",
      "B-PER  -> B-PER   -3.419571\n",
      "I-MISC -> B-LOC   -3.462672\n",
      "I-ORG  -> B-LOC   -3.647404\n"
     ]
    }
   ],
   "source": [
    "from collections import Counter\n",
    "info = tagger.info()\n",
    "\n",
    "def print_transitions(trans_features):\n",
    "    for (label_from, label_to), weight in trans_features:\n",
    "        print(\"%-6s -> %-7s %0.6f\" % (label_from, label_to, weight))\n",
    "\n",
    "print(\"Top likely transitions:\")\n",
    "print_transitions(Counter(info.transitions).most_common(15))\n",
    "\n",
    "print(\"\\nTop unlikely transitions:\")\n",
    "print_transitions(Counter(info.transitions).most_common()[-15:])"
   ]
  },
  {
   "cell_type": "markdown",
   "metadata": {},
   "source": [
    "We can see that, for example, it is very likely that the beginning of a person name (B-PER) will be followed by a token inside person name (I-PER). Also note O -> B-LOC are penalized.\n",
    "\n",
    "## Check the state features"
   ]
  },
  {
   "cell_type": "code",
   "execution_count": 165,
   "metadata": {},
   "outputs": [
    {
     "name": "stdout",
     "output_type": "stream",
     "text": [
      "Top positive:\n",
      "10.596990 B-MISC word.lower():fomentó\n",
      "10.595833 B-MISC word.lower():ss&p500\n",
      "10.569087 B-LOC  word.lower():celrá\n",
      "10.491885 B-ORG  word.lower():autostrade\n",
      "10.028637 B-ORG  word.lower():lycos\n",
      "9.919296 I-PER  word.lower():gándara\n",
      "9.868742 I-MISC word.lower():extraviado\n",
      "9.685962 B-LOC  word.lower():caracas\n",
      "9.683591 I-LOC  word.lower():llanada\n",
      "9.603334 I-PER  word.lower():sota\n",
      "9.558908 B-LOC  word.lower():bruselas\n",
      "9.397699 B-LOC  word.lower():portugal\n",
      "9.334681 B-PER  word.lower():rivaldo\n",
      "9.328376 B-LOC  word.lower():burgos\n",
      "9.289254 I-ORG  word.lower():tecos\n",
      "9.265410 B-ORG  word.lower():psoe-progresistas\n",
      "9.255296 B-PER  word.lower():reyes\n",
      "9.245421 I-PER  word.lower():zotoluco\n",
      "9.179202 B-PER  word.lower():ballesteros\n",
      "9.127152 B-LOC  word.lower():ceuta\n",
      "\n",
      "Top negative:\n",
      "-3.630440 O      word[-2:]:ak\n",
      "-3.670430 O      word.lower():república\n",
      "-3.694552 O      word[-2:]:at\n",
      "-3.744290 O      word[-2:]:rt\n",
      "-3.813656 O      word.lower():iglesias\n",
      "-3.820395 O      word.lower():cortes\n",
      "-3.826779 O      word[-2:]:ic\n",
      "-3.862741 O      word.lower():unidos\n",
      "-3.921419 O      word[-2:]:ti\n",
      "-4.000677 B-MISC word[-2:]:el\n",
      "-4.003766 O      word[-2:]:Le\n",
      "-4.031163 O      word.lower():artes\n",
      "-4.094691 O      word.lower():ciencias\n",
      "-4.338759 B-PER  word.lower():el\n",
      "-4.379856 O      word.lower():parlamento\n",
      "-4.507007 O      word.lower():occidente\n",
      "-4.559013 O      word.lower():palmas\n",
      "-4.838925 O      word.lower():principado\n",
      "-5.482218 B-PER  word.lower():la\n",
      "-6.298804 O      word.lower():unió\n"
     ]
    }
   ],
   "source": [
    "def print_state_features(state_features):\n",
    "    for (attr, label), weight in state_features:\n",
    "        print(\"%0.6f %-6s %s\" % (weight, label, attr))    \n",
    "\n",
    "print(\"Top positive:\")\n",
    "print_state_features(Counter(info.state_features).most_common(20))\n",
    "\n",
    "print(\"\\nTop negative:\")\n",
    "print_state_features(Counter(info.state_features).most_common()[-20:])"
   ]
  }
 ],
 "metadata": {
  "kernelspec": {
   "display_name": "Python 3",
   "language": "python",
   "name": "python3"
  },
  "language_info": {
   "codemirror_mode": {
    "name": "ipython",
    "version": 3
   },
   "file_extension": ".py",
   "mimetype": "text/x-python",
   "name": "python",
   "nbconvert_exporter": "python",
   "pygments_lexer": "ipython3",
   "version": "3.7.1"
  }
 },
 "nbformat": 4,
 "nbformat_minor": 1
}
